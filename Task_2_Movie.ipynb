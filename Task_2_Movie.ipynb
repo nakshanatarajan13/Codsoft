{
 "cells": [
  {
   "cell_type": "markdown",
   "id": "0b0ac210",
   "metadata": {},
   "source": [
    "#### IMPORTS"
   ]
  },
  {
   "cell_type": "code",
   "execution_count": null,
   "id": "4bbade5a",
   "metadata": {},
   "outputs": [],
   "source": [
    "import pandas as pd\n",
    "from sklearn.model_selection import train_test_split\n",
    "from sklearn.preprocessing import OneHotEncoder\n",
    "from sklearn.compose import ColumnTransformer\n",
    "from sklearn.pipeline import Pipeline\n",
    "from sklearn.impute import SimpleImputer\n",
    "from sklearn.ensemble import RandomForestRegressor\n",
    "from sklearn.metrics import mean_squared_error"
   ]
  },
  {
   "cell_type": "markdown",
   "id": "f486aa59",
   "metadata": {},
   "source": [
    "#### DATASET "
   ]
  },
  {
   "cell_type": "code",
   "execution_count": 2,
   "id": "f81333c2",
   "metadata": {},
   "outputs": [],
   "source": [
    "data = pd.read_csv('IMDb Movies India.csv', encoding='latin-1')\n"
   ]
  },
  {
   "cell_type": "markdown",
   "id": "7445b82b",
   "metadata": {},
   "source": [
    "#### DATA PREPROCESSING"
   ]
  },
  {
   "cell_type": "code",
   "execution_count": 3,
   "id": "18d37855",
   "metadata": {},
   "outputs": [],
   "source": [
    "data.dropna(subset=['Name', 'Genre', 'Rating', 'Director', 'Actor 1', 'Actor 2', 'Actor 3'], inplace=True)\n"
   ]
  },
  {
   "cell_type": "markdown",
   "id": "dcc538a8",
   "metadata": {},
   "source": [
    "#### TEST TRAIN SPLIT"
   ]
  },
  {
   "cell_type": "code",
   "execution_count": 4,
   "id": "9eb9efe6",
   "metadata": {},
   "outputs": [],
   "source": [
    "X = data.drop('Rating', axis=1)\n",
    "y = data['Rating']\n",
    "X_train, X_test, y_train, y_test = train_test_split(X, y, test_size=0.2, random_state=42)"
   ]
  },
  {
   "cell_type": "markdown",
   "id": "c15f4b6b",
   "metadata": {},
   "source": [
    "#### MODEL SELECTION "
   ]
  },
  {
   "cell_type": "code",
   "execution_count": 5,
   "id": "f31fe5fc",
   "metadata": {},
   "outputs": [],
   "source": [
    "categorical_features = ['Name', 'Genre', 'Director', 'Actor 1', 'Actor 2', 'Actor 3']\n",
    "categorical_transformer = Pipeline(steps=[\n",
    "    ('imputer', SimpleImputer(strategy='constant', fill_value='missing')),\n",
    "    ('onehot', OneHotEncoder(handle_unknown='ignore'))\n",
    "])"
   ]
  },
  {
   "cell_type": "code",
   "execution_count": 6,
   "id": "aa50582b",
   "metadata": {},
   "outputs": [],
   "source": [
    "preprocessor = ColumnTransformer(\n",
    "    transformers=[\n",
    "        ('cat', categorical_transformer, categorical_features)\n",
    "    ])\n",
    "\n",
    "model = Pipeline(steps=[('preprocessor', preprocessor),\n",
    "                        ('regressor', RandomForestRegressor())])"
   ]
  },
  {
   "cell_type": "markdown",
   "id": "d111e7f3",
   "metadata": {},
   "source": [
    "#### MODEL TRAINING "
   ]
  },
  {
   "cell_type": "code",
   "execution_count": 7,
   "id": "c9dcd9bb",
   "metadata": {},
   "outputs": [
    {
     "data": {
      "text/plain": [
       "Pipeline(steps=[('preprocessor',\n",
       "                 ColumnTransformer(transformers=[('cat',\n",
       "                                                  Pipeline(steps=[('imputer',\n",
       "                                                                   SimpleImputer(fill_value='missing',\n",
       "                                                                                 strategy='constant')),\n",
       "                                                                  ('onehot',\n",
       "                                                                   OneHotEncoder(handle_unknown='ignore'))]),\n",
       "                                                  ['Name', 'Genre', 'Director',\n",
       "                                                   'Actor 1', 'Actor 2',\n",
       "                                                   'Actor 3'])])),\n",
       "                ('regressor', RandomForestRegressor())])"
      ]
     },
     "execution_count": 7,
     "metadata": {},
     "output_type": "execute_result"
    }
   ],
   "source": [
    "model.fit(X_train, y_train)"
   ]
  },
  {
   "cell_type": "markdown",
   "id": "43a3cd05",
   "metadata": {},
   "source": [
    "#### MODEL EVALUATION "
   ]
  },
  {
   "cell_type": "code",
   "execution_count": 9,
   "id": "1ecdf5c5",
   "metadata": {},
   "outputs": [
    {
     "name": "stdout",
     "output_type": "stream",
     "text": [
      "Mean Squared Error: 1.5666552354497358\n"
     ]
    }
   ],
   "source": [
    "y_pred = model.predict(X_test)\n",
    "mse = mean_squared_error(y_test, y_pred)\n",
    "print('Mean Squared Error:', mse)"
   ]
  },
  {
   "cell_type": "markdown",
   "id": "4d67a66d",
   "metadata": {},
   "source": [
    "#### PREDICTION"
   ]
  },
  {
   "cell_type": "code",
   "execution_count": 10,
   "id": "449dc392",
   "metadata": {},
   "outputs": [
    {
     "name": "stdout",
     "output_type": "stream",
     "text": [
      "Enter the movie name: 3 Idiots\n",
      "Enter the genre: Comedy\n",
      "Enter the director: Rajkumar Hirani\n",
      "Enter the first actor: Aamir Khan\n",
      "Enter the second actor: Madhavan\n",
      "Enter the third actor: Mona Singh\n",
      "Predicted rating for 3 Idiots: 7.543000000000007\n"
     ]
    }
   ],
   "source": [
    "def predict_movie_rating(movie):\n",
    "    movie_data = pd.DataFrame([movie], columns=X.columns)\n",
    "    rating = model.predict(movie_data)\n",
    "    return rating[0]\n",
    "\n",
    "# Step 10: Input and Prediction\n",
    "movie_name = input(\"Enter the movie name: \")\n",
    "genre = input(\"Enter the genre: \")\n",
    "director = input(\"Enter the director: \")\n",
    "actor_1 = input(\"Enter the first actor: \")\n",
    "actor_2 = input(\"Enter the second actor: \")\n",
    "actor_3 = input(\"Enter the third actor: \")\n",
    "\n",
    "movie = {'Name': movie_name, 'Genre': genre, 'Director': director, \n",
    "         'Actor 1': actor_1, 'Actor 2': actor_2, 'Actor 3': actor_3}\n",
    "\n",
    "predicted_rating = predict_movie_rating(movie)\n",
    "print(f\"Predicted rating for {movie_name}: {predicted_rating}\")"
   ]
  }
 ],
 "metadata": {
  "kernelspec": {
   "display_name": "Python 3 (ipykernel)",
   "language": "python",
   "name": "python3"
  },
  "language_info": {
   "codemirror_mode": {
    "name": "ipython",
    "version": 3
   },
   "file_extension": ".py",
   "mimetype": "text/x-python",
   "name": "python",
   "nbconvert_exporter": "python",
   "pygments_lexer": "ipython3",
   "version": "3.9.7"
  }
 },
 "nbformat": 4,
 "nbformat_minor": 5
}
